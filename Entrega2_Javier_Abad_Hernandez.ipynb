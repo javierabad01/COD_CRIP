{
 "cells": [
  {
   "cell_type": "markdown",
   "metadata": {},
   "source": [
    "# Entrega 2\n",
    "\n",
    "## Códigos y Criptografía\n",
    "\n",
    "### Javier Abad Hernández"
   ]
  },
  {
   "cell_type": "code",
   "execution_count": 745,
   "metadata": {},
   "outputs": [],
   "source": [
    "import random\n",
    "from sage.misc.prandom import randrange\n",
    "from sage.misc.randstate import current_randstate\n",
    "import math\n",
    "import time\n",
    "import matplotlib.pyplot as plt"
   ]
  },
  {
   "cell_type": "markdown",
   "metadata": {},
   "source": [
    "#### Ejercicio 1"
   ]
  },
  {
   "cell_type": "markdown",
   "metadata": {},
   "source": [
    "##### Implementa una función que tenga como input el alfabeto fuente y la frecuencia de cada símbolo y tenga como output una codificación trivial para este canal. ¿Cuáles el número medio de bits usados para transmitir un símbolo?"
   ]
  },
  {
   "cell_type": "code",
   "execution_count": 746,
   "metadata": {},
   "outputs": [],
   "source": [
    "#Primero vamos a crear todas las funciones necesarias y despues más adelante haré la llamada a las dos funciones.\n",
    "\n",
    "def cod_trivial(a,b):\n",
    "    c=d=e=0\n",
    "    for i in range(len(a)):\n",
    "        d=2^i\n",
    "        if(not d<len(a)):\n",
    "            d=2^(i-1)\n",
    "            e=2^i\n",
    "            break\n",
    "            \n",
    "    positive_binary = '{0:b}'.format(e-1)\n",
    "    print(\"El mayor numero a representar es: \", e-1, \" que en binario es: \", positive_binary, \n",
    "          \" \\nPor lo que el numero medio de bits usados es: \", len(positive_binary))\n"
   ]
  },
  {
   "cell_type": "markdown",
   "metadata": {},
   "source": [
    "##### Implementa una función que tenga como input el alfabeto fuente y la frecuencia de cada símbolo y tenga como output un código compresor óptimo (código Huffman) para este canal. ¿Cuáles el número medio de bits usados para transmitir un símbolo?\n",
    "(La implementación de este segundo apartado es común con Carlos Martin y Alejandro Pulido)."
   ]
  },
  {
   "cell_type": "code",
   "execution_count": 747,
   "metadata": {},
   "outputs": [],
   "source": [
    "class NodeTree(object):\n",
    "    def __init__(self, left=None, right=None):\n",
    "        self.left = left\n",
    "        self.right = right\n",
    "\n",
    "    def children(self):\n",
    "        return self.left, self.right\n",
    "\n",
    "    def _str_(self):\n",
    "        return self.left, self.right\n",
    "    \n",
    "# Función que crea el codigo de Huffman a partir del árbol\n",
    "def Codigo_Huffman(node, binString=''):\n",
    "    if type(node) is str:\n",
    "        return {node: binString}\n",
    "    (l, r) = node.children()\n",
    "    d = dict()\n",
    "    d.update(Codigo_Huffman(l, binString + '1'))\n",
    "    d.update(Codigo_Huffman(r, binString + '0'))\n",
    "    return d\n",
    "\n",
    "# Funcion que crea el arbol binario\n",
    "def creaArbol(nodes):\n",
    "    while len(nodes) > 1:\n",
    "        (key1, c1) = nodes[-1]\n",
    "        (key2, c2) = nodes[-2]\n",
    "        nodes = nodes[:-2]\n",
    "        node = NodeTree(key1, key2)\n",
    "        nodes.append((node, c1 + c2))\n",
    "        nodes = sorted(nodes, key=lambda x: x[1], reverse=True)\n",
    "    return nodes[0][0]\n",
    "\n",
    "def huffman(alfabeto, frecuencias):\n",
    "    freq = {}\n",
    "    for i in range(len(alfabeto)):\n",
    "        freq[alfabeto[i]] = round(frecuencias[i],2)\n",
    "\n",
    "    print(\"Diccionario de caracteres y frecuencias: \\n\")\n",
    "    print(freq)\n",
    "    freq2=freq\n",
    "\n",
    "    freq = sorted(freq.items(), key=lambda x: x[1], reverse=True)\n",
    "\n",
    "    # Creamos el arbol binario\n",
    "    arbol = creaArbol(freq)\n",
    "\n",
    "    # Convertimos el arbol a el codigo de Huffman\n",
    "    codificacion = Codigo_Huffman(arbol)\n",
    "    print(\"\\n************ SOLUCIÓN ************\")\n",
    "    # Impresión del codigo de Huffman\n",
    "    print(\"SÍMBOLO        |      CODIFICACIÓN\")\n",
    "\n",
    "    z=0\n",
    "    for simbolo, codigo in codificacion.items():\n",
    "        print(\" \",simbolo,\"         ---->       \",codigo)\n",
    "        z=z+(len(codigo)*freq2.get(simbolo))\n",
    "\n",
    "\n",
    "    print(\"El número medio de bits es: \", z)\n",
    "    \n"
   ]
  },
  {
   "cell_type": "code",
   "execution_count": 748,
   "metadata": {},
   "outputs": [
    {
     "name": "stdout",
     "output_type": "stream",
     "text": [
      "***************************************************\n",
      "******************* APARTADO 1 ********************\n",
      "***************************************************\n",
      "El mayor numero a representar es:  7  que en binario es:  111  \n",
      "Por lo que el numero medio de bits usados es:  3\n",
      "\n",
      "***************************************************\n",
      "******************* APARTADO 2 ********************\n",
      "***************************************************\n",
      "Diccionario de caracteres y frecuencias: \n",
      "\n",
      "{'a': 0.2, 'b': 0.15, 'c': 0.05, 'd': 0.15, 'e': 0.45}\n",
      "\n",
      "************ SOLUCIÓN ************\n",
      "SÍMBOLO        |      CODIFICACIÓN\n",
      "  e          ---->        1\n",
      "  a          ---->        01\n",
      "  b          ---->        001\n",
      "  c          ---->        0001\n",
      "  d          ---->        0000\n",
      "El número medio de bits es:  2.1\n"
     ]
    }
   ],
   "source": [
    "import numpy as np\n",
    "a = [\"a\",\"b\",\"c\",\"d\",\"e\"]\n",
    "b = [0.20,0.15,0.05,0.15,0.45]\n",
    "\n",
    "print(\"***************************************************\\n******************* APARTADO 1 ********************\\n***************************************************\")\n",
    "cod_trivial(a,b)\n",
    "print(\"\\n***************************************************\\n******************* APARTADO 2 ********************\\n***************************************************\")\n",
    "\n",
    "huffman(a,b)"
   ]
  },
  {
   "cell_type": "markdown",
   "metadata": {},
   "source": [
    "#### Episodio 2"
   ]
  },
  {
   "cell_type": "markdown",
   "metadata": {},
   "source": [
    "##### Implementa una función que, dados dos primos p y q, calcule la clave pública y la clave privada del criptosistema RSA."
   ]
  },
  {
   "cell_type": "code",
   "execution_count": 749,
   "metadata": {},
   "outputs": [],
   "source": [
    "seed(0) #tomamos semilla del random\n",
    "\n",
    "def rsa_clave(p,q):\n",
    "    n=p*q\n",
    "    phi=(p-1)*(q-1)\n",
    "    minimo=0\n",
    "    e=0\n",
    "    while(minimo!=1): #buscamos un e cuyo mcd(e,phi)==1\n",
    "        e=randrange(phi) \n",
    "        minimo=gcd(e,phi)\n",
    "    d=inverse_mod(e,phi)\n",
    "    return n,e,d,phi"
   ]
  },
  {
   "cell_type": "code",
   "execution_count": 750,
   "metadata": {},
   "outputs": [
    {
     "name": "stdout",
     "output_type": "stream",
     "text": [
      "La clave publica es:[n=125563,e=95161]\n",
      "La clave privada es:[d=99817,p=307,q=409,phi=124848]\n"
     ]
    }
   ],
   "source": [
    "p=307\n",
    "q=409\n",
    "n,e,d,phi=rsa_clave(p,q)\n",
    "print(\"La clave publica es:[n=\"+str(n)+\",e=\"+str(e)+\"]\")\n",
    "print(\"La clave privada es:[d=\"+str(d)+\",p=\"+str(p)+\",q=\"+str(q)+\",phi=\"+str(phi)+\"]\")"
   ]
  },
  {
   "cell_type": "markdown",
   "metadata": {},
   "source": [
    "##### Implementa una función que, dada la clave pública (n, e) de un criptosistema RSA y un mensaje en Zn, cifre dicho mensaje."
   ]
  },
  {
   "cell_type": "code",
   "execution_count": 751,
   "metadata": {},
   "outputs": [],
   "source": [
    "def rsa_cifrado(n,e,m): #cifrado menssaje rsa\n",
    "    c=power_mod(m,e,n)\n",
    "    return c"
   ]
  },
  {
   "cell_type": "code",
   "execution_count": 752,
   "metadata": {},
   "outputs": [
    {
     "name": "stdout",
     "output_type": "stream",
     "text": [
      "El mensaje cifrado es: 497\n"
     ]
    }
   ],
   "source": [
    "mensaje=12456 # mensaje a cifrar 0<M<n\n",
    "cifrado=rsa_cifrado(n,e,mensaje)\n",
    "print(\"El mensaje cifrado es: \"+str(cifrado))"
   ]
  },
  {
   "cell_type": "markdown",
   "metadata": {},
   "source": [
    "##### Implementa una función que, dada la clave privada d de un criptosistema RSA y un mensaje crifrado con la función anterior, descifre dicho mensaje."
   ]
  },
  {
   "cell_type": "code",
   "execution_count": 753,
   "metadata": {},
   "outputs": [],
   "source": [
    "def rsa_descifrado(d,c,n): #descifrado mensaje de rsa\n",
    "    m=power_mod(c,d,n)\n",
    "    return m"
   ]
  },
  {
   "cell_type": "code",
   "execution_count": 754,
   "metadata": {},
   "outputs": [
    {
     "name": "stdout",
     "output_type": "stream",
     "text": [
      "El mensaje descifrado es: 12456\n"
     ]
    }
   ],
   "source": [
    "descifrado=rsa_descifrado(d,cifrado,n)\n",
    "print(\"El mensaje descifrado es: \"+str(descifrado))"
   ]
  },
  {
   "cell_type": "markdown",
   "metadata": {},
   "source": [
    "#### Ejercicio 3"
   ]
  },
  {
   "cell_type": "markdown",
   "metadata": {},
   "source": [
    "##### Implementa una funci´on que dada la clave pública de un criptosistema RSA y un texto M escrito con el alfabeto ZN , cifre dicho mensaje. Por ejemplo N puedeser igual a 256 y considerar el código ASCII. Nota: el tamaño del bloque será k, con N^k ≤ n < N^k+1.\n",
    "##### Implementa una funci´on que dada la clave privada de un criptosistema RSA y un texto crifrado con la funci´on anterior, descifre dicho texto"
   ]
  },
  {
   "cell_type": "code",
   "execution_count": 755,
   "metadata": {},
   "outputs": [],
   "source": [
    "#ejercicio 3\n",
    "\n",
    "def rsa_bloques_cifrado(mensaje, k):\n",
    "    # Calculo n\n",
    "    N = 256\n",
    "    limite_inferior = N ** k  # N^k\n",
    "    limite_superior = N ** (k + 1)  # N^k+1\n",
    "\n",
    "    raiz = Integer(limite_inferior).sqrt()  # Para conseguir los números primos y que sean distantes\n",
    "\n",
    "    p = 0\n",
    "    q = 0\n",
    "    iterador = 100\n",
    "\n",
    "    # Pararemos cuando los primos sean diferentes y N^k<=n y N^(k+1)>n\n",
    "    while p == q or limite_inferior > (p * q) or limite_superior <= (p * q):\n",
    "        p = next_prime(raiz - 250 * iterador)\n",
    "        q = next_prime(raiz + 1000 * iterador)  # 1000 y 250 para que se diferencien bien entre sí\n",
    "        iterador += 1\n",
    "\n",
    "    n, e, d, phi = rsa_clave(p, q)  # Obtengo las claves del RSA\n",
    "\n",
    "    # Descompongo en bloques de k -> lista de strings de tamaño k cada uno: 0:k-1\n",
    "    lista_palabras = dividir_mensaje(mensaje, k)\n",
    "\n",
    "    palabra_cifrada = \"\"\n",
    "    for i in lista_palabras:\n",
    "        lista = cifrado_bloque(i, k, N, e, n)  # Ciframos cada uno de los bloques yobtenemos una lista de código ASCII cifradas\n",
    "        for j in lista:\n",
    "            palabra_cifrada += chr(j)  # Pasamos los números cifrados ASCII a letras y lo juntamos en un string\n",
    "\n",
    "    return palabra_cifrada, N, d, n\n",
    "\n",
    "def rsa_bloques_descifrado(mensaje, N, k, d, n):\n",
    "    # Dividimos el mensaje cifrado en bloques de tamaño k\n",
    "    lista_palabras = dividir_mensaje(mensaje, k)\n",
    "    \n",
    "    # Cadena de texto que almacenará el mensaje descifrado\n",
    "    palabra_descifrada = \"\"\n",
    "\n",
    "    # Iteramos sobre cada bloque del mensaje cifrado\n",
    "    for i in lista_palabras:\n",
    "        # Desciframos el bloque utilizando la función descifrado_bloque\n",
    "        lista = descifrado_bloque(i, N, k, d, n)\n",
    "        \n",
    "        # Iteramos sobre cada caracter descifrado del bloque\n",
    "        for j in lista:\n",
    "            # Convertimos el caracter descifrado a su código ASCII y lo añadimos a la cadena de texto\n",
    "            palabra_descifrada += chr(j)\n",
    "            \n",
    "    # Devolvemos el mensaje descifrado\n",
    "    return palabra_descifrada\n",
    "\n",
    "\n",
    "\n",
    "################################################################################\n",
    "#Funciones auxiliares\n",
    "################################################################################\n",
    "\n",
    "#funcion que lo que nos hace es dividir un mensaje muy grande en [m1,m2,m3,...,mk] siendo la longitud de cada uno de \n",
    "#esos mi de k(0:k-1)\n",
    "# Función que divide un mensaje en bloques de tamaño k\n",
    "def dividir_mensaje(mensaje, k):\n",
    "    # Divide el mensaje en bloques de tamaño k\n",
    "    lista_palabras = [mensaje[i:i+k] for i in range(0, len(mensaje), k)]\n",
    "    \n",
    "    # Si el último bloque tiene longitud menor que k, lo rellena con espacios\n",
    "    if len(lista_palabras[-1]) < k:\n",
    "        lista_palabras[-1] += \" \" * (k - len(lista_palabras[-1]))\n",
    "        \n",
    "    return lista_palabras\n",
    "\n",
    "\n",
    "# Función que cifra un bloque utilizando el algoritmo RSA\n",
    "def cifrado_bloque(M, k, N, e, n):\n",
    "    # Calcula el mensaje en base N\n",
    "    m = sum(ord(M[i]) * N ** (k - i - 1) for i in range(k))\n",
    "    \n",
    "    # Cifra el mensaje utilizando el algoritmo RSA\n",
    "    c = power_mod(m, e, n)\n",
    "    \n",
    "    # Calcula c en base N\n",
    "    lista = []\n",
    "    while c >= N:\n",
    "        lista.insert(0, c % N)\n",
    "        c //= N\n",
    "    lista.insert(0, c)\n",
    "    \n",
    "    return lista\n",
    "\n",
    "# Función que descifra un bloque utilizando el algoritmo RSA\n",
    "def descifrado_bloque(lista,N,k,d,n):\n",
    "    iterador=0\n",
    "    c=0\n",
    "    for i in range(len(lista)): #len(lista) puede ser k o k+1\n",
    "        c+=ord(lista[-i-1])*pow(N,0+iterador) #empezamos por atras a calcular ci porque puede seer que tengamos k o k+1\n",
    "        iterador+=1\n",
    "    b=power_mod(c,d,n)  #calculo bi\n",
    "    # Calcula b en base N\n",
    "    bases = []\n",
    "    while b >= N:\n",
    "        bases.insert(0, b % N)\n",
    "        b //= N\n",
    "    bases.insert(0, b)\n",
    "    \n",
    "    return bases\n"
   ]
  },
  {
   "cell_type": "code",
   "execution_count": 798,
   "metadata": {},
   "outputs": [
    {
     "name": "stdout",
     "output_type": "stream",
     "text": [
      "La palabra cifrada es: ÷y\u001c",
      "õeD-\u0010`g=N9Þdi©Ã§,{@ÉùhÇlHÌ\u0005û³ÅL¹´êûti\tóZ©\tJ·FÃ\n",
      "La palabra descifrada es: soy javier y esto es una prueba del rsa en bloque     \n"
     ]
    }
   ],
   "source": [
    "k=6\n",
    "palabra_cifrada,N,d,n=rsa_bloques_cifrado(\"soy javier y esto es una prueba del rsa en bloque\",k)\n",
    "print(\"La palabra cifrada es:\",palabra_cifrada)\n",
    "palabra_descifrada=rsa_bloques_descifrado(palabra_cifrada,N,k,d,n)\n",
    "print(\"La palabra descifrada es:\",palabra_descifrada)"
   ]
  },
  {
   "cell_type": "markdown",
   "metadata": {},
   "source": [
    "#### Ejercicio 4"
   ]
  },
  {
   "cell_type": "markdown",
   "metadata": {},
   "source": [
    "##### Implementa una función por fuerza bruta que dado n = p · q producto de dos primos, factorice n. Es decir, encuentre p y q."
   ]
  },
  {
   "cell_type": "code",
   "execution_count": 801,
   "metadata": {},
   "outputs": [],
   "source": [
    "def fuerza_bruta(n):\n",
    "    raiz=int(math.sqrt(n))\n",
    "    for i in range(1,raiz+1): #los primos a encontrar iran de 1 hasta la raiz de n | podria empezar el bucle desde raiz+1 hasta 1\n",
    "        numero_primo=next_prime(i)\n",
    "        if(n%numero_primo==0): #el primo encontrado divide a n por lo que vamos a buscar el otro primo si lo hay\n",
    "            otro_primo=n/numero_primo\n",
    "            encontrado=ZZ(otro_primo).is_prime() #es primo el otro ?\n",
    "            if(encontrado):\n",
    "                return numero_primo,otro_primo\n",
    "        i=numero_primo  #los de antes hasta que hemos encontrado al primer primo los desechamos. los hemos evaluado antes\n",
    "    return 0,0"
   ]
  },
  {
   "cell_type": "code",
   "execution_count": 802,
   "metadata": {},
   "outputs": [
    {
     "name": "stdout",
     "output_type": "stream",
     "text": [
      "p=7 q=37\n"
     ]
    }
   ],
   "source": [
    "p,q=fuerza_bruta(259)\n",
    "if(p!=0 and q!=0):\n",
    "    print(\"p=\"+str(p)+\" q=\"+str(q))\n"
   ]
  },
  {
   "cell_type": "markdown",
   "metadata": {},
   "source": [
    "##### b) Implementa una funcion por fuerza bruta que dada la clave publica (n,e) del criptosistema RSA, calcule phi(n)."
   ]
  },
  {
   "cell_type": "code",
   "execution_count": 803,
   "metadata": {},
   "outputs": [],
   "source": [
    "#calculamos phi de forma bruta con la funcion anterior\n",
    "def bruta_phi(n,e):\n",
    "    #e<phi(n)<n   -> de hecho es uno muy cercano a n\n",
    "    #mcd(e,phi)=1\n",
    "    #phi=(p-1)*(q-1)\n",
    "    \n",
    "    #por temas de simplicidad y costes voy a utilizar directamente la funcion de fuerza bruta para n y posteriormente calculo\n",
    "    #phi , ya que si no tendria una lista de posibles phis que cumplen las 2 primeras condiciones anteriores y posteriormente\n",
    "    #tocaria llamar a la funcion fuerza bruta\n",
    "    \n",
    "    #no utilizo e\n",
    "    \n",
    "    p,q=fuerza_bruta(n)\n",
    "    phi=(p-1)*(q-1)\n",
    "    return phi\n",
    "    "
   ]
  },
  {
   "cell_type": "code",
   "execution_count": 804,
   "metadata": {},
   "outputs": [
    {
     "name": "stdout",
     "output_type": "stream",
     "text": [
      "phi=216\n"
     ]
    }
   ],
   "source": [
    "ne=rsa_clave(p,q)\n",
    "phi=bruta_phi(ne[0],ne[1])\n",
    "print(\"phi=\"+str(phi))"
   ]
  },
  {
   "cell_type": "markdown",
   "metadata": {},
   "source": [
    "##### c) Implementa una funci´on por fuerza que dada la clave p´ublica (n, e) del criptosistema RSA, calcule la clave privada d = e^−1 mod n."
   ]
  },
  {
   "cell_type": "code",
   "execution_count": 805,
   "metadata": {},
   "outputs": [],
   "source": [
    "#sacar a fuerza bruta la clave privada d\n",
    "def bruta_d(n,e):\n",
    "    phi=bruta_phi(n,e)\n",
    "    d=inverse_mod(e,phi)\n",
    "    return d"
   ]
  },
  {
   "cell_type": "code",
   "execution_count": 806,
   "metadata": {},
   "outputs": [
    {
     "name": "stdout",
     "output_type": "stream",
     "text": [
      "d=61\n"
     ]
    }
   ],
   "source": [
    "d=bruta_d(ne[0],ne[1])\n",
    "print(\"d=\"+str(d))"
   ]
  },
  {
   "cell_type": "markdown",
   "metadata": {},
   "source": [
    "##### d) Implementa una función por fuerza bruta que dados g, p y A, con g un generador e Z∗p, calcule el logaritmo discreto de A en base g modulo p: log g (A) mod p"
   ]
  },
  {
   "cell_type": "code",
   "execution_count": 807,
   "metadata": {},
   "outputs": [],
   "source": [
    "\n",
    "def encontrar_generadores(q):\n",
    "    # Verificamos que q sea un número primo\n",
    "    p= 2*q + 1\n",
    "    while not p.is_prime():\n",
    "        q = next_prime(q)\n",
    "        p= 2*q + 1\n",
    "        \n",
    "    #Busco g tal que, 1<g<p-1 y que ademas, cumpla con lo siguiente: g^2 != 1 mod p y que g^g != 1 mod p\n",
    "    \n",
    "    g = random.randint(1,p-1)\n",
    "    \n",
    "    while 1:\n",
    "        if power_mod(g,2,p) != 1 and power_mod(g,g,p) != 1:\n",
    "            break\n",
    "        else:\n",
    "            g = random.randint(1,p-1)        \n",
    "    \n",
    "    return p,g\n",
    "\n",
    "def logaritmo_discreto(g, p, A):\n",
    "    # Verificamos que g y p sean enteros y A sea un elemento de Zp\n",
    "    g = Integer(g)\n",
    "    p = Integer(p)\n",
    "    A = Zp(p)(A)\n",
    "    # Iteramos desde 0 hasta p-1\n",
    "    for i in range(p):\n",
    "        # Calculamos el valor de g^i módulo p\n",
    "        val = power_mod(g,i,p)\n",
    "        # Si g^i es igual a A, entonces hemos encontrado el logaritmo discreto\n",
    "        if val == A:\n",
    "            return i\n",
    "    # Si no encontramos ningún valor que sea igual a A, devolvemos -1\n",
    "    return -1"
   ]
  },
  {
   "cell_type": "code",
   "execution_count": 26,
   "metadata": {
    "scrolled": true
   },
   "outputs": [
    {
     "name": "stdout",
     "output_type": "stream",
     "text": [
      "p es : 5 g es :  3  y A es:  2\n",
      "Se ha encontrado el logaritmo discreto log g (A) mod p, y es:  3\n",
      "p es : 47 g es :  25  y A es:  3\n",
      "Se ha encontrado el logaritmo discreto log g (A) mod p, y es:  10\n",
      "p es : 467 g es :  400  y A es:  158\n",
      "Se ha encontrado el logaritmo discreto log g (A) mod p, y es:  29\n",
      "p es : 4679 g es :  1756  y A es:  4631\n",
      "Se ha encontrado el logaritmo discreto log g (A) mod p, y es:  889\n",
      "p es : 46679 g es :  24939  y A es:  4653\n",
      "No se ha encontrado el logaritmo discreto.\n",
      "p es : 467183 g es :  368129  y A es:  93498\n",
      "No se ha encontrado el logaritmo discreto.\n",
      "p es : 4666967 g es :  3990416  y A es:  3152381\n",
      "Se ha encontrado el logaritmo discreto log g (A) mod p, y es:  2057403\n",
      "p es : 46669307 g es :  4466493  y A es:  3024576\n",
      "Se ha encontrado el logaritmo discreto log g (A) mod p, y es:  28113073\n",
      "[1, 2, 3, 4, 5, 6, 7, 8] [0.0013828277587890625, 0.0021276473999023438, 0.0008175373077392578, 0.0070683956146240234, 0.31107473373413086, 3.489107370376587, 13.464669466018677, 187.3779456615448]\n"
     ]
    }
   ],
   "source": [
    "cifras=[]\n",
    "tiempo=[]\n",
    "\n",
    "q=1\n",
    "for i in range(8):\n",
    "    q=q.next_prime()\n",
    "    cifras.append(len(str(q)))\n",
    "    p,g=encontrar_generadores(q)\n",
    "    A = random.randint(1,p-1)\n",
    "    print(\"p es :\", p, \"g es : \",g, \" y A es: \",A)\n",
    "    t0 = time.time()\n",
    "    ld=logaritmo_discreto(g,p,A)\n",
    "    t1 = time.time()\n",
    "    tiempo.append(t1-t0)\n",
    "    if (ld==-1):\n",
    "        print(\"No se ha encontrado el logaritmo discreto.\")\n",
    "    else:\n",
    "        print(\"Se ha encontrado el logaritmo discreto log g (A) mod p, y es: \", ld)\n",
    "    q=q*10\n",
    "print(cifras,tiempo)\n",
    "\n"
   ]
  },
  {
   "cell_type": "code",
   "execution_count": 808,
   "metadata": {},
   "outputs": [
    {
     "data": {
      "image/png": "[encoded data removed]",
      "text/plain": [
       "<Figure size 432x288 with 1 Axes>"
      ]
     },
     "metadata": {
      "needs_background": "light"
     },
     "output_type": "display_data"
    }
   ],
   "source": [
    "plt.plot(cifras,tiempo)\n",
    "plt.xlabel(\"Numero cifras del número primo\")\n",
    "plt.ylabel(\"Tiempo de ejecucion (s)\")\n",
    "plt.show()"
   ]
  },
  {
   "cell_type": "markdown",
   "metadata": {},
   "source": [
    "##### e) ¿Hasta que tamaño del input las funciones anteriores son capaces de terminar? ¿hemos atacado con éxito los criptosistema RSA y ElGamal?\n",
    "\n",
    "Siempre que se cumpla que n sea producto de 2 numero primos, seremos capaces de terminar. Se han hecho pruebas y cuanto mayor sean estos números, mayor será el coste a la hora de factorizar n. \n",
    "Para comprobarlo he realizado pruebas a mano pero sin anotarlas, pero también he hecho una representación tomando datos de tiempo y distintos tamaños del apartado d), lo puedes ver en la gráfica anterior.\n",
    "\n",
    "A la segunda pregunta, si que hemos sido capaces de atacar con éxito.\n",
    "\n"
   ]
  },
  {
   "cell_type": "markdown",
   "metadata": {},
   "source": [
    "#### Ejercicio 5"
   ]
  },
  {
   "cell_type": "markdown",
   "metadata": {},
   "source": [
    "##### Implementa una función que firme digitalmente un mensaje usando la firma digital con ElGamal y una función hash. Se puede usar cualquier función hash que el alumno quiera, en SageMath y Python está por ejemplo implementada la función hash(). Se puede truncar o reducir por un módulo el output de función hash. El input debe ser la clave privada de ElGamal (también son necesarios p y g) y el mensaje a firmar. El output debe ser la firma."
   ]
  },
  {
   "cell_type": "code",
   "execution_count": 809,
   "metadata": {},
   "outputs": [],
   "source": [
    "#firma digital con rsa con hash\n",
    "def firma_digital_elgamal(p,g,a,mensaje):\n",
    "    while True:\n",
    "        k = int(random.randint(1,p-2))\n",
    "        if (gcd(k,p-1)==1):\n",
    "            break\n",
    "\n",
    "    k = Integer(k)\n",
    "\n",
    "    hash_mensaje=hash(mensaje)\n",
    "    r=power_mod(g,k,p)\n",
    "    S1=inverse_mod(k,p-1)\n",
    "    S2=power_mod(hash_mensaje-a*r,1,p-1)\n",
    "\n",
    "    S=S1*S2 % (p-1)\n",
    "    \n",
    "    firma=[r,S]\n",
    "    \n",
    "    return firma"
   ]
  },
  {
   "cell_type": "markdown",
   "metadata": {},
   "source": [
    "##### Implementa una función que dado un mensaje, una firma y una clave pública dede ElGamal, compruebe si la firma del mensaje es válida o no, de acuerdo a la firma digital implementada con la función anterior."
   ]
  },
  {
   "cell_type": "code",
   "execution_count": 810,
   "metadata": {},
   "outputs": [],
   "source": [
    "def verificar_firma(firma,mensaje,p,g,A):\n",
    "    # Desempaqueta la firma en r y S\n",
    "    r=firma[0]\n",
    "    s=firma[1]\n",
    "    \n",
    "    if (1<r and r<=p-1):\n",
    "        c1=(power_mod(A,r,p)*power_mod(r,s,p)%p)%p\n",
    "        c2=(power_mod(g,hash(mensaje),p))\n",
    "    if (c1==c2):\n",
    "        return \"Firma valida\"\n",
    "    else:\n",
    "        return \"Firma invalida\"\n"
   ]
  },
  {
   "cell_type": "code",
   "execution_count": 811,
   "metadata": {},
   "outputs": [
    {
     "name": "stdout",
     "output_type": "stream",
     "text": [
      "El mensaje y su firma es: 8 [5, 11]\n",
      "Firma valida\n"
     ]
    }
   ],
   "source": [
    "p=23\n",
    "g=7\n",
    "a=13\n",
    "A=power_mod(g,a,p)\n",
    "mensaje='8'\n",
    "\n",
    "firma=firma_digital_elgamal(p,g,a,mensaje)\n",
    "print(\"El mensaje y su firma es:\",mensaje, firma)\n",
    "valida=verificar_firma(firma,mensaje,p,g,A)\n",
    "print(valida)"
   ]
  },
  {
   "cell_type": "code",
   "execution_count": null,
   "metadata": {},
   "outputs": [],
   "source": []
  },
  {
   "cell_type": "markdown",
   "metadata": {},
   "source": [
    "#### Ejercicio 6"
   ]
  },
  {
   "cell_type": "markdown",
   "metadata": {},
   "source": [
    "##### Implementa una función que firme digitalmente un mensaje usando la firma digital con ElGamal y una función hash. Y que además también cifre el mensaje usando RSA. El input debe ser la clave privada de Alice (de ElGamal), la clave pública de Bob (de RSA) y el mensaje a firmar. El output debe ser el mensaje cifrado y su firma."
   ]
  },
  {
   "cell_type": "code",
   "execution_count": 812,
   "metadata": {},
   "outputs": [],
   "source": [
    "#EJERCICIO 6\n",
    "\n",
    "def firmar_y_cifrar_mensaje(p, g, clave_privada_alice, clave_publica_bob, mensaje):\n",
    "    # Primero, firmamos el mensaje con la función firma_digital_elgamal\n",
    "    firma = firma_digital_elgamal(p, g, clave_privada_alice, mensaje)\n",
    "    \n",
    "    # Luego, obtenemos la clave pública y privada de RSA a partir de p y q\n",
    "    n, e, d, phi = rsa_clave(p, clave_publica_bob)\n",
    "    # Ciframos el mensaje con RSA\n",
    "    mensaje_cifrado = rsa_cifrado(n, e, mensaje)\n",
    "    # Devolvemos el mensaje cifrado y su firma\n",
    "    return mensaje_cifrado, firma, d"
   ]
  },
  {
   "cell_type": "markdown",
   "metadata": {},
   "source": [
    "##### Implementa una función que dado un mensaje cifrado y una firma, descifre el mensaje y compruebe que la firma es válida, de acuerdo al método de la función anterior. El input debe ser la clave pública de Alice (de ElGamal), la clave privada de Bob (de RSA), el mensaje cifrado y la firma. El output debe ser el mensaje descifrado y un mensaje que nos diga si la firma era válida o no."
   ]
  },
  {
   "cell_type": "code",
   "execution_count": 813,
   "metadata": {},
   "outputs": [],
   "source": [
    "def descifrar_y_verificar_firma(p, g, clave_privada_bob, clave_publica_alice, mensaje_cifrado, firma, n):\n",
    "    # Primero, desciframos el mensaje con RSA\n",
    "    mensaje = rsa_descifrado(clave_privada_bob, mensaje_cifrado, n)\n",
    "    \n",
    "    # Luego, verificamos la firma con la función verificar_firma_digital_elgamal\n",
    "    es_valida = verificar_firma(firma, mensaje, p, g, clave_publica_alice)\n",
    "    \n",
    "    return mensaje, es_valida"
   ]
  },
  {
   "cell_type": "code",
   "execution_count": 814,
   "metadata": {},
   "outputs": [
    {
     "name": "stdout",
     "output_type": "stream",
     "text": [
      "El mensaje es:  4\n",
      "El mensaje cifrado es:  151  y su firma es:  [5, 7]\n",
      "(4, 'Firma valida')\n"
     ]
    }
   ],
   "source": [
    "mensaje=4\n",
    "priv_alice=13 #Clave privada alice\n",
    "p=23\n",
    "g=7\n",
    "pub_bob=7 #clave publica bob\n",
    "# Luego, obtenemos la clave pública y privada de RSA a partir de p y q\n",
    "pub_alice_elgamal=power_mod(g,a,p)\n",
    "print(\"El mensaje es: \", mensaje)\n",
    "\n",
    "\n",
    "mensaje_cifrado, firma, priv_bob_rsa= firmar_y_cifrar_mensaje(p,g,priv_alice,pub_bob,mensaje)\n",
    "print(\"El mensaje cifrado es: \",mensaje_cifrado, \" y su firma es: \", firma)\n",
    "print(descifrar_y_verificar_firma(p, g, priv_bob_rsa, pub_alice_elgamal, mensaje_cifrado, firma, p*pub_bob))\n"
   ]
  },
  {
   "cell_type": "code",
   "execution_count": null,
   "metadata": {},
   "outputs": [],
   "source": []
  },
  {
   "cell_type": "code",
   "execution_count": null,
   "metadata": {},
   "outputs": [],
   "source": []
  },
  {
   "cell_type": "code",
   "execution_count": null,
   "metadata": {},
   "outputs": [],
   "source": []
  }
 ],
 "metadata": {
  "kernelspec": {
   "display_name": "SageMath 9.3",
   "language": "sage",
   "name": "sagemath"
  },
  "language_info": {
   "codemirror_mode": {
    "name": "ipython",
    "version": 3
   },
   "file_extension": ".py",
   "mimetype": "text/x-python",
   "name": "python",
   "nbconvert_exporter": "python",
   "pygments_lexer": "ipython3",
   "version": "3.7.10"
  }
 },
 "nbformat": 4,
 "nbformat_minor": 4
}
